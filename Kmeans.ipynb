{
 "cells": [
  {
   "cell_type": "markdown",
   "metadata": {},
   "source": [
    "# K-means Clustering"
   ]
  },
  {
   "cell_type": "code",
   "execution_count": 1,
   "metadata": {},
   "outputs": [],
   "source": [
    "# used for manipulating directory paths\n",
    "import os\n",
    "\n",
    "# Scientific and vector computation for python\n",
    "import numpy as np\n",
    "\n",
    "\n",
    "# Plotting library\n",
    "from matplotlib import pyplot\n",
    "from mpl_toolkits.mplot3d import Axes3D\n",
    "import matplotlib as mpl\n",
    "\n",
    "from IPython.display import HTML, display, clear_output\n",
    "\n",
    "try:\n",
    "    pyplot.rcParams[\"animation.html\"] = \"jshtml\"\n",
    "except ValueError:\n",
    "    pyplot.rcParams[\"animation.html\"] = \"html5\"\n",
    "\n",
    "# Optimization module in scipy\n",
    "from scipy import optimize\n",
    "\n",
    "# will be used to load MATLAB mat datafile format\n",
    "from scipy.io import loadmat\n",
    "\n",
    "# library written for this exercise providing additional functions for assignment submission, and others\n",
    "import utils\n",
    "\n",
    "%load_ext autoreload\n",
    "%autoreload 2\n",
    "\n",
    "\n",
    "# tells matplotlib to embed plots within the notebook\n",
    "%matplotlib inline"
   ]
  },
  {
   "cell_type": "markdown",
   "metadata": {},
   "source": [
    "## 1 K-means Clustering\n",
    "\n",
    "In this exercise, you will implement K-means algorithm and use it for image compression. You will first start on an example 2D dataset that will help you gain an intuition of how the K-means algorithm works. After\n",
    "that, you wil use the K-means algorithm for image compression by reducing the number of colors that occur in an image to only those that are most common in that image.\n",
    "\n",
    "### 1.1 Implementing K-means\n",
    "\n",
    "The K-means algorithm is a method to automatically cluster similar data examples together. Concretely, you are given a training set $\\{x^{(1)} , \\cdots, x^{(m)}\\}$ (where $x^{(i)} \\in \\mathbb{R}^n$), and want to group the data into a few cohesive “clusters”. The intuition behind K-means is an iterative procedure that starts by guessing the initial centroids, and then refines this guess by repeatedly assigning examples to their closest centroids and then recomputing the centroids based on the assignments.\n",
    "\n",
    "The K-means algorithm is as follows:\n",
    "\n",
    "```python\n",
    "centroids = kMeansInitCentroids(X, K)\n",
    "for i in range(iterations):\n",
    "    # Cluster assignment step: Assign each data point to the\n",
    "    # closest centroid. idx[i] corresponds to cˆ(i), the index\n",
    "    # of the centroid assigned to example i\n",
    "    idx = findClosestCentroids(X, centroids)\n",
    "    \n",
    "    # Move centroid step: Compute means based on centroid\n",
    "    # assignments\n",
    "    centroids = computeMeans(X, idx, K)\n",
    "```\n",
    "\n",
    "The inner-loop of the algorithm repeatedly carries out two steps: (1) Assigning each training example $x^{(i)}$ to its closest centroid, and (2) Recomputing the mean of each centroid using the points assigned to it. The K-means algorithm will always converge to some final set of means for the centroids. Note that the converged solution may not always be ideal and depends on the initial setting of the centroids. Therefore, in practice the K-means algorithm is usually run a few times with different random initializations. One way to choose between these different solutions from different random initializations is to choose the one with the lowest cost function value (distortion). You will implement the two phases of the K-means algorithm separately\n",
    "in the next sections."
   ]
  },
  {
   "cell_type": "markdown",
   "metadata": {},
   "source": [
    "<a id=\"section1\"></a>\n",
    "#### 1.1.1 Finding closest centroids\n",
    "\n",
    "In the “cluster assignment” phase of the K-means algorithm, the algorithm assigns every training example $x^{(i)}$ to its closest centroid, given the current positions of centroids. Specifically, for every example $i$ we set\n",
    "\n",
    "$$c^{(i)} := j \\quad \\text{that minimizes} \\quad \\lvert\\rvert x^{(i)} - \\mu_j  \\lvert\\rvert^2, $$\n",
    "\n",
    "where $c^{(i)}$ is the index of the centroid that is closest to $x^{(i)}$, and $\\mu_j$ is the position (value) of the $j^{th}$ centroid. Note that $c^{(i)}$ corresponds to `idx[i]` in the starter code.\n",
    "\n",
    "Your task is to complete the code in the function `findClosestCentroids`. This function takes the data matrix `X` and the locations of all centroids inside `centroids` and should output a one-dimensional array `idx` that holds the index (a value in $\\{1, ..., K\\}$, where $K$ is total number of centroids) of the closest centroid to every training example.\n",
    "\n",
    "You can implement this using a loop over every training example and every centroid.\n",
    "<a id=\"findClosestCentroids\"></a>"
   ]
  },
  {
   "cell_type": "code",
   "execution_count": 2,
   "metadata": {},
   "outputs": [],
   "source": [
    "def findClosestCentroids(X, centroids):\n",
    "    \"\"\"\n",
    "    Computes the centroid memberships for every example.\n",
    "    \n",
    "    Parameters\n",
    "    ----------\n",
    "    X : array_like\n",
    "        The dataset of size (m, n) where each row is a single example. \n",
    "        That is, we have m examples each of n dimensions.\n",
    "        \n",
    "    centroids : array_like\n",
    "        The k-means centroids of size (K, n). K is the number\n",
    "        of clusters, and n is the the data dimension.\n",
    "    \n",
    "    Returns\n",
    "    -------\n",
    "    idx : array_like\n",
    "        A vector of size (m, ) which holds the centroids assignment for each\n",
    "        example (row) in the dataset X.\n",
    "    \"\"\"\n",
    "    arr = np.zeros((X.shape[0],centroids.shape[0]))\n",
    "    for i in range(centroids.shape[0]):\n",
    "        n = np.sum((X - centroids[i])**2,axis=1)\n",
    "        arr[:,i] = n\n",
    "\n",
    "    idx = np.argmin(arr,axis=1)\n",
    "    return idx"
   ]
  },
  {
   "cell_type": "markdown",
   "metadata": {},
   "source": [
    "Once you have completed the code in `findClosestCentroids`, the following cell will run your code and you should see the output `[0 2 1]` corresponding to the centroid assignments for the first 3 examples."
   ]
  },
  {
   "cell_type": "code",
   "execution_count": 3,
   "metadata": {},
   "outputs": [
    {
     "name": "stdout",
     "output_type": "stream",
     "text": [
      "Closest centroids for the first 3 examples:\n",
      "[0 2 1]\n",
      "(the closest centroids should be 0, 2, 1 respectively)\n"
     ]
    }
   ],
   "source": [
    "# Load an example dataset that we will be using\n",
    "data = loadmat(os.path.join('data', 'ex7data2.mat'))\n",
    "X = data['X']\n",
    "\n",
    "# Select an initial set of centroids\n",
    "K = 3   # 3 Centroids\n",
    "initial_centroids = np.array([[3, 3], [6, 2], [8, 5]])\n",
    "\n",
    "# Find the closest centroids for the examples using the initial_centroids\n",
    "idx = findClosestCentroids(X, initial_centroids)\n",
    "\n",
    "print('Closest centroids for the first 3 examples:')\n",
    "print(idx[:3])\n",
    "print('(the closest centroids should be 0, 2, 1 respectively)')"
   ]
  },
  {
   "cell_type": "markdown",
   "metadata": {},
   "source": [
    "<a id=\"section2\"></a>\n",
    "### 1.1.2 Computing centroid means\n",
    "\n",
    "Given assignments of every point to a centroid, the second phase of the algorithm recomputes, for each centroid, the mean of the points that were assigned to it. Specifically, for every centroid $k$ we set\n",
    "\n",
    "$$ \\mu_k := \\frac{1}{\\left| C_k\\right|} \\sum_{i \\in C_k} x^{(i)}$$\n",
    "\n",
    "where $C_k$ is the set of examples that are assigned to centroid $k$. Concretely, if two examples say $x^{(3)}$ and $x^{(5)}$ are assigned to centroid $k = 2$, then you should update $\\mu_2 = \\frac{1}{2} \\left( x^{(3)} + x^{(5)} \\right)$.\n",
    "\n"
   ]
  },
  {
   "cell_type": "code",
   "execution_count": 6,
   "metadata": {},
   "outputs": [],
   "source": [
    "def computeCentroids(X, idx, K):\n",
    "    \"\"\"\n",
    "    Returns the new centroids by computing the means of the data points\n",
    "    assigned to each centroid.\n",
    "    \n",
    "    Parameters\n",
    "    ----------\n",
    "    X : array_like\n",
    "        The datset where each row is a single data point. That is, it \n",
    "        is a matrix of size (m, n) where there are m datapoints each\n",
    "        having n dimensions. \n",
    "    \n",
    "    idx : array_like \n",
    "        A vector (size m) of centroid assignments (i.e. each entry in range [0 ... K-1])\n",
    "        for each example.\n",
    "    \n",
    "    K : int\n",
    "        Number of clusters\n",
    "    \n",
    "    Returns\n",
    "    -------\n",
    "    centroids : array_like\n",
    "        A matrix of size (K, n) where each row is the mean of the data \n",
    "        points assigned to it.\n",
    "    \"\"\"\n",
    "    centroids = np.zeros((K,X.shape[1]))\n",
    "    for i in range(K):\n",
    "        center = np.mean(X[idx==i],axis=0)\n",
    "        centroids[i,:] = center \n",
    "    return centroids"
   ]
  },
  {
   "cell_type": "markdown",
   "metadata": {},
   "source": [
    "Once you have completed the code in `computeCentroids`, the following cell will run your code and output the centroids after the first step of K-means."
   ]
  },
  {
   "cell_type": "code",
   "execution_count": 7,
   "metadata": {},
   "outputs": [
    {
     "name": "stdout",
     "output_type": "stream",
     "text": [
      "Centroids computed after initial finding of closest centroids:\n",
      "[[2.42830111 3.15792418]\n",
      " [5.81350331 2.63365645]\n",
      " [7.11938687 3.6166844 ]]\n",
      "\n",
      "The centroids should be\n",
      "   [ 2.428301 3.157924 ]\n",
      "   [ 5.813503 2.633656 ]\n",
      "   [ 7.119387 3.616684 ]\n"
     ]
    }
   ],
   "source": [
    "# Compute means based on the closest centroids found in the previous part.\n",
    "centroids = computeCentroids(X, idx, K)\n",
    "\n",
    "print('Centroids computed after initial finding of closest centroids:')\n",
    "print(centroids)\n",
    "print('\\nThe centroids should be')\n",
    "print('   [ 2.428301 3.157924 ]')\n",
    "print('   [ 5.813503 2.633656 ]')\n",
    "print('   [ 7.119387 3.616684 ]')"
   ]
  },
  {
   "cell_type": "markdown",
   "metadata": {},
   "source": [
    "### 1.2 K-means on example dataset \n",
    "\n",
    "After you have completed the two functions (`findClosestCentroids` and `computeCentroids`), you have all the necessary pieces to run the K-means algorithm. The next cell  will run the K-means algorithm on a toy 2D dataset to help you understand how K-means works. Your functions are called from inside the `runKmeans` function (in this assignment's `utils.py` module). We encourage you to take a look at the function to understand how it works. Notice that the code calls the two functions you implemented in a loop.\n",
    "\n",
    "When you run the next step, the K-means code will produce an animation that steps you through the progress of the algorithm at each iteration. At the end, your figure should look as the one displayed below.\n",
    "\n",
    "![](Figures/kmeans_result.png)"
   ]
  },
  {
   "cell_type": "code",
   "execution_count": 8,
   "metadata": {
    "scrolled": false
   },
   "outputs": [
    {
     "data": {
      "text/plain": [
       "<Figure size 432x288 with 0 Axes>"
      ]
     },
     "metadata": {},
     "output_type": "display_data"
    }
   ],
   "source": [
    "# Load an example dataset\n",
    "data = loadmat(os.path.join('Data', 'ex7data2.mat'))\n",
    "\n",
    "# Settings for running K-Means\n",
    "K = 3\n",
    "max_iters = 10\n",
    "\n",
    "# For consistency, here we set centroids to specific values\n",
    "# but in practice you want to generate them automatically, such as by\n",
    "# settings them to be random examples (as can be seen in\n",
    "# kMeansInitCentroids).\n",
    "initial_centroids = np.array([[3, 3], [6, 2], [8, 5]])\n",
    "\n",
    "\n",
    "# Run K-Means algorithm. The 'true' at the end tells our function to plot\n",
    "# the progress of K-Means\n",
    "centroids, idx, anim = utils.runkMeans(X, initial_centroids,\n",
    "                                       findClosestCentroids, computeCentroids, max_iters, True)\n",
    "#anim"
   ]
  },
  {
   "cell_type": "markdown",
   "metadata": {},
   "source": [
    "### 1.3 Random initialization \n",
    "\n",
    "The initial assignments of centroids for the example dataset in the previous cell were designed so that you will see the same figure as that shown in the cell above. In practice, a\n",
    "good strategy for initializing the centroids is to select random examples from the training set.\n",
    "\n"
   ]
  },
  {
   "cell_type": "code",
   "execution_count": 9,
   "metadata": {},
   "outputs": [],
   "source": [
    "def kMeansInitCentroids(X, K):\n",
    "    \"\"\"\n",
    "    This function initializes K centroids that are to be used in K-means on the dataset x.\n",
    "    \n",
    "    Parameters\n",
    "    ----------\n",
    "    X : array_like \n",
    "        The dataset of size (m x n).\n",
    "    \n",
    "    K : int\n",
    "        The number of clusters.\n",
    "    \n",
    "    Returns\n",
    "    -------\n",
    "    centroids : array_like\n",
    "        Centroids of the clusters. This is a matrix of size (K x n).\n",
    "    \n",
    "    Instructions\n",
    "    ------------\n",
    "    You should set centroids to randomly chosen examples from the dataset X.\n",
    "    \"\"\"\n",
    "    centroids = X[np.random.randint(0,X.shape[0],K)]\n",
    "    return centroids"
   ]
  },
  {
   "cell_type": "code",
   "execution_count": 10,
   "metadata": {},
   "outputs": [],
   "source": [
    "def k_kmeans(X,K,num_iter):\n",
    "    centroids = kMeansInitCentroids(X,K)\n",
    "    for i in range(num_iter):\n",
    "        idx = findClosestCentroids(X, centroids)\n",
    "        centroids = computeCentroids(X, idx, K)\n",
    "    return idx , centroids"
   ]
  },
  {
   "cell_type": "code",
   "execution_count": 15,
   "metadata": {},
   "outputs": [
    {
     "data": {
      "text/plain": [
       "<matplotlib.legend.Legend at 0x23b694c4520>"
      ]
     },
     "execution_count": 15,
     "metadata": {},
     "output_type": "execute_result"
    },
    {
     "data": {
      "image/png": "[encoded data removed]",
      "text/plain": [
       "<Figure size 432x288 with 1 Axes>"
      ]
     },
     "metadata": {
      "needs_background": "light"
     },
     "output_type": "display_data"
    }
   ],
   "source": [
    "import matplotlib.pyplot as plt\n",
    "\n",
    "idx , centroids = k_kmeans(X,3,500)\n",
    "for i in range(3):\n",
    "    plt.scatter(X[idx==i][:,0],X[idx==i][:,1],label=i)\n",
    "plt.legend()"
   ]
  },
  {
   "cell_type": "code",
   "execution_count": 16,
   "metadata": {},
   "outputs": [
    {
     "data": {
      "text/plain": [
       "array([0, 2, 2, 0, 0, 0, 0, 0, 0, 0, 0, 0, 0, 0, 0, 0, 0, 0, 0, 0, 0, 0,\n",
       "       0, 0, 0, 0, 0, 0, 0, 0, 0, 0, 0, 0, 0, 0, 0, 0, 0, 0, 0, 0, 0, 0,\n",
       "       0, 0, 0, 0, 0, 0, 0, 0, 0, 0, 0, 0, 0, 0, 0, 0, 0, 0, 0, 0, 0, 0,\n",
       "       0, 0, 0, 0, 0, 0, 0, 0, 0, 0, 0, 0, 0, 0, 0, 0, 0, 0, 2, 0, 0, 0,\n",
       "       0, 0, 0, 0, 0, 0, 0, 0, 0, 0, 0, 0, 1, 1, 1, 1, 1, 1, 1, 1, 1, 1,\n",
       "       1, 1, 1, 1, 1, 1, 1, 1, 1, 1, 1, 1, 1, 1, 1, 1, 1, 1, 1, 1, 1, 1,\n",
       "       1, 1, 1, 1, 1, 1, 1, 1, 1, 1, 1, 1, 1, 1, 1, 1, 1, 1, 1, 1, 1, 1,\n",
       "       1, 1, 1, 1, 1, 1, 1, 1, 1, 1, 1, 1, 1, 1, 1, 1, 1, 1, 1, 1, 1, 1,\n",
       "       1, 1, 1, 1, 1, 1, 1, 1, 1, 1, 1, 1, 1, 1, 1, 1, 1, 1, 1, 1, 1, 1,\n",
       "       1, 1, 2, 2, 2, 2, 2, 2, 2, 2, 2, 2, 2, 2, 2, 2, 2, 2, 2, 2, 2, 2,\n",
       "       2, 2, 2, 2, 2, 2, 2, 2, 2, 2, 2, 2, 2, 2, 2, 2, 2, 2, 2, 1, 2, 2,\n",
       "       2, 2, 2, 2, 2, 2, 2, 2, 2, 2, 2, 2, 2, 2, 2, 2, 2, 2, 2, 2, 2, 2,\n",
       "       2, 1, 2, 2, 2, 2, 2, 2, 2, 2, 2, 2, 2, 2, 2, 2, 2, 2, 2, 2, 2, 2,\n",
       "       2, 2, 2, 2, 2, 2, 2, 2, 2, 2, 2, 2, 2, 0], dtype=int64)"
      ]
     },
     "execution_count": 16,
     "metadata": {},
     "output_type": "execute_result"
    }
   ],
   "source": [
    "idx"
   ]
  },
  {
   "cell_type": "code",
   "execution_count": 157,
   "metadata": {},
   "outputs": [],
   "source": [
    "class k_means():\n",
    "    \n",
    "    def __init__(self,K):\n",
    "        self.K = K\n",
    "        self.centroids = np.zeros((1,K))\n",
    "        self._label = 0\n",
    "        \n",
    "    def kMeansInitCentroids(self,X,K):\n",
    "        centroids = X[np.random.randint(0,X.shape[0],K)]\n",
    "        return centroids\n",
    "    \n",
    "    def findClosestCentroids(self,X, centroids):\n",
    "        arr = np.zeros((X.shape[0],centroids.shape[0]))\n",
    "        for i in range(centroids.shape[0]):\n",
    "            n = np.sum((X - centroids[i])**2,axis=1)\n",
    "            arr[:,i] = n\n",
    "        idx = np.argmin(arr,axis=1)\n",
    "        return idx\n",
    "    \n",
    "    def computeCentroids(self,X, idx, K):\n",
    "        centroids = np.zeros((K,X.shape[1]))\n",
    "        for i in range(K):\n",
    "            center = np.mean(X[idx==i],axis=0)\n",
    "            centroids[i,:] = center \n",
    "        return centroids\n",
    "    \n",
    "    def fit(self,X,num_iter = 200):\n",
    "        # to find best init of centroids to avoid local minimum \n",
    "        best_init = {}\n",
    "        for t in range(10):\n",
    "            # init random centroids\n",
    "            cen = self.kMeansInitCentroids(X,self.K) \n",
    "            \n",
    "            for i in range(num_iter):\n",
    "                idx = self.findClosestCentroids(X, cen)\n",
    "                centroids = self.computeCentroids(X, idx, self.K)\n",
    "                # stop condition\n",
    "                distance = np.linalg.norm(centroids - cen)\n",
    "                if distance < 2: \n",
    "                    print(f\"stop at iteration :{i}\")\n",
    "                    break       \n",
    "                cen = centroids\n",
    "            # calculate variance to know which one is the best initiaion\n",
    "            labels = self.findClosestCentroids(X,centroids)\n",
    "            var_t = []\n",
    "            for centr in range(centroids.shape[0]):\n",
    "                index = [index for index, value in enumerate(labels) if value == centr]\n",
    "                var_t.append(np.sum((X[index] - centroids[centr])**2))         \n",
    "            best_init[np.mean(var_t)] = centroids\n",
    "        \n",
    "        centroids = best_init[min(best_init.keys())]\n",
    "        self.centroids = centroids\n",
    "        self._label = self.findClosestCentroids(X,self.centroids)"
   ]
  },
  {
   "cell_type": "code",
   "execution_count": 158,
   "metadata": {},
   "outputs": [],
   "source": [
    "data = loadmat(os.path.join('Data', 'ex7data2.mat'))"
   ]
  },
  {
   "cell_type": "code",
   "execution_count": 159,
   "metadata": {},
   "outputs": [
    {
     "name": "stdout",
     "output_type": "stream",
     "text": [
      "stop at iteration :1\n",
      "stop at iteration :1\n",
      "stop at iteration :1\n",
      "stop at iteration :0\n",
      "stop at iteration :1\n",
      "stop at iteration :1\n",
      "stop at iteration :1\n",
      "stop at iteration :0\n",
      "stop at iteration :1\n",
      "stop at iteration :0\n"
     ]
    }
   ],
   "source": [
    "clusters = 3\n",
    "k1 = k_means(clusters)\n",
    "k1.fit(data['X'])"
   ]
  },
  {
   "cell_type": "code",
   "execution_count": 160,
   "metadata": {},
   "outputs": [
    {
     "data": {
      "text/plain": [
       "<matplotlib.legend.Legend at 0x23b6a84c340>"
      ]
     },
     "execution_count": 160,
     "metadata": {},
     "output_type": "execute_result"
    },
    {
     "data": {
      "image/png": "[encoded data removed]",
      "text/plain": [
       "<Figure size 432x288 with 1 Axes>"
      ]
     },
     "metadata": {
      "needs_background": "light"
     },
     "output_type": "display_data"
    }
   ],
   "source": [
    "import matplotlib.pyplot as plt\n",
    "\n",
    "idx = k1._label\n",
    "for i in range(clusters):\n",
    "    plt.scatter(data['X'][idx==i][:,0],data['X'][idx==i][:,1],label=i)\n",
    "plt.legend()"
   ]
  },
  {
   "cell_type": "code",
   "execution_count": null,
   "metadata": {},
   "outputs": [],
   "source": []
  }
 ],
 "metadata": {
  "kernelspec": {
   "display_name": "Python 3 (ipykernel)",
   "language": "python",
   "name": "python3"
  },
  "language_info": {
   "codemirror_mode": {
    "name": "ipython",
    "version": 3
   },
   "file_extension": ".py",
   "mimetype": "text/x-python",
   "name": "python",
   "nbconvert_exporter": "python",
   "pygments_lexer": "ipython3",
   "version": "3.9.7"
  }
 },
 "nbformat": 4,
 "nbformat_minor": 2
}
